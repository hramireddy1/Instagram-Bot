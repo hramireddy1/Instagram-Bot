{
 "cells": [
  {
   "cell_type": "code",
   "execution_count": null,
   "id": "f6fe290a-9fb9-4800-ab68-f234d3943707",
   "metadata": {
    "tags": []
   },
   "outputs": [],
   "source": [
    "import random\n",
    "from instapy import InstaPy\n",
    "from instapy import smart_run\n",
    "from credentials import username,password\n",
    "import requests\n",
    "from datetime import datetime"
   ]
  },
  {
   "cell_type": "code",
   "execution_count": null,
   "id": "c1c83ee1-8204-4bd0-9baa-21bae7875a47",
   "metadata": {
    "tags": []
   },
   "outputs": [],
   "source": [
    "session = InstaPy(username=username,\n",
    "                  password=password,\n",
    "                  headless_browser=True,\n",
    "                  disable_image_load=True,\n",
    "                  multi_logs=True)"
   ]
  },
  {
   "cell_type": "code",
   "execution_count": null,
   "id": "7a795321-1e49-4df4-92e6-3aabd099e76f",
   "metadata": {
    "tags": []
   },
   "outputs": [],
   "source": [
    "with smart_run(session):\n",
    "    session.set_relationship_bounds(enabled=True,\n",
    "                                    potency_ratio=None,\n",
    "                                    delimit_by_numbers=True,\n",
    "                                    max_followers=7500,\n",
    "                                    max_following=3000,\n",
    "                                    min_followers=25,\n",
    "                                    min_following=25,\n",
    "                                    min_posts=10)\n",
    "    session.set_do_follow(enabled=True, percentage=40, times=1)\n",
    "    \n",
    "    \n",
    "    requests.get(\n",
    "        \"https://api.telegram.org/[BOT_ID]/sendMessage?chat_id=[CHAT_ID]&text='InstaPy Follower Started @ {}'\"\n",
    "            .format(datetime.now().strftime(\"%H:%M:%S\")))\n",
    "    session.follow_user_followers(['chartrdaily'],\n",
    "                                  amount=random.randint(30, 60),\n",
    "                                  randomize=True, sleep_delay=600,\n",
    "                                  interact=False)\n",
    "    \n",
    "    requests.get(\n",
    "        \"https://api.telegram.org/[BOT_ID]/sendMessage?chat_id=[CHAT_ID]&text='InstaPy Unfollower Started @ {}'\"\n",
    "            .format(datetime.now().strftime(\"%H:%M:%S\")))\n",
    "    session.unfollow_users(amount=random.randint(75, 100),\n",
    "                           nonFollowers=True,\n",
    "                           style=\"FIFO\",\n",
    "                           unfollow_after=24 * 60 * 60, sleep_delay=600)\n"
   ]
  },
  {
   "cell_type": "code",
   "execution_count": null,
   "id": "4105160a-8fdf-4783-8c9d-1222c0a517e0",
   "metadata": {
    "tags": []
   },
   "outputs": [],
   "source": []
  }
 ],
 "metadata": {
  "kernelspec": {
   "display_name": "Python 3",
   "language": "python",
   "name": "python3"
  },
  "language_info": {
   "codemirror_mode": {
    "name": "ipython",
    "version": 3
   },
   "file_extension": ".py",
   "mimetype": "text/x-python",
   "name": "python",
   "nbconvert_exporter": "python",
   "pygments_lexer": "ipython3",
   "version": "3.6.9"
  }
 },
 "nbformat": 4,
 "nbformat_minor": 5
}
